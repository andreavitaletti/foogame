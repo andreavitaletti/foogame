{
 "cells": [
  {
   "cell_type": "code",
   "execution_count": null,
   "metadata": {},
   "outputs": [],
   "source": [
    "# -*- coding: utf-8 -*-\n",
    "# view-source:https://www.alimentinutrizione.it/tabelle-nutrizionali/ricerca-per-alimento\n",
    "\n",
    "import requests\n",
    "from bs4 import BeautifulSoup\n",
    "import re\n",
    "import json\n",
    "\n",
    "import requests \n",
    "URL = \"https://www.alimentinutrizione.it/tabelle-nutrizionali/ricerca-per-alimento\"\n",
    "r = requests.get(URL) \n",
    "print(r.content) \n"
   ]
  },
  {
   "cell_type": "code",
   "execution_count": 72,
   "metadata": {},
   "outputs": [],
   "source": [
    "soup = BeautifulSoup(r.text, \"html.parser\") \n",
    "table = soup.find('table', id=\"cercatabella\")"
   ]
  },
  {
   "cell_type": "code",
   "execution_count": null,
   "metadata": {},
   "outputs": [],
   "source": [
    "rows = table.findAll('tr')\n",
    "for row in rows:\n",
    "    print(row)"
   ]
  },
  {
   "cell_type": "code",
   "execution_count": 74,
   "metadata": {},
   "outputs": [],
   "source": [
    "links = table.find_all('a', href=True)"
   ]
  },
  {
   "cell_type": "code",
   "execution_count": 75,
   "metadata": {},
   "outputs": [],
   "source": [
    "crea_dict={}\n",
    "for link in links:\n",
    "    #print(link.text.strip(), link['href'])\n",
    "    crea_dict[link.text.strip()]={\"URL\":link['href']}"
   ]
  },
  {
   "cell_type": "code",
   "execution_count": 76,
   "metadata": {},
   "outputs": [
    {
     "data": {
      "text/plain": [
       "'/tabelle-nutrizionali/120010'"
      ]
     },
     "execution_count": 76,
     "metadata": {},
     "output_type": "execute_result"
    }
   ],
   "source": [
    "crea_dict['Acciuga o alice']['URL']"
   ]
  },
  {
   "cell_type": "code",
   "execution_count": 77,
   "metadata": {},
   "outputs": [],
   "source": [
    "import json\n",
    "\n",
    "# create json object from dictionary\n",
    "json = json.dumps(crea_dict)\n",
    "\n",
    "# open file for writing, \"w\" \n",
    "f = open(\"crea_dict.json\",\"w\")\n",
    "\n",
    "# write json object to file\n",
    "f.write(json)\n",
    "\n",
    "# close file\n",
    "f.close()"
   ]
  },
  {
   "cell_type": "code",
   "execution_count": 95,
   "metadata": {},
   "outputs": [],
   "source": [
    "import json\n",
    " \n",
    "# Opening JSON file\n",
    "with open(\"crea_dict.json\") as json_file:\n",
    "    crea_dict = json.load(json_file)\n",
    "    \n",
    "f.close()"
   ]
  },
  {
   "cell_type": "code",
   "execution_count": null,
   "metadata": {},
   "outputs": [],
   "source": [
    "crea_dict"
   ]
  },
  {
   "cell_type": "code",
   "execution_count": null,
   "metadata": {},
   "outputs": [],
   "source": [
    "#i=0\n",
    "keys = crea_dict.keys()\n",
    "for key in keys:\n",
    "    print(key, \"https://www.alimentinutrizione.it\"+crea_dict[key]['URL'])\n",
    "    URL = \"https://www.alimentinutrizione.it\"+crea_dict[key]['URL']\n",
    "    r = requests.get(URL) \n",
    "    #print(r.content) \n",
    "    soup = BeautifulSoup(r.text, \"html.parser\")\n",
    "    ######################################################## \n",
    "    table = soup.find(\"table\", {\"class\": \"tablesorter table table-bordered table-striped toptable\"})  \n",
    "    rows = table.findAll('tr')\n",
    "    for row in rows[1:]:\n",
    "        col = row.findAll(\"td\")\n",
    "        crea_dict[key][col[0].text]=col[1].text\n",
    "        #print(col[0].text,\"-->\",col[1].text)\n",
    "    ########################################################    \n",
    "    table = soup.find(\"table\", {\"class\": \"tblmain tablesorter table table-bordered table-striped\"})    \n",
    "    \n",
    "    \n",
    "    rows = table.findAll('tr', {\"class\": \"corponutriente\"})\n",
    "    #crea_dict[key]={\"macronutrienti\":{}}\n",
    "    crea_dict[key]['macronutrienti']={}\n",
    "    for row in rows:\n",
    "        col = row.findAll(\"td\")\n",
    "        crea_dict[key]['macronutrienti'][col[0].text]=col[2].text\n",
    "        #print(col[0].text,col[2].text)\n",
    "    rows = table.findAll('tr', {\"class\": \"corpominerali\"})\n",
    "    #crea_dict[key]={\"minerali\":{}}\n",
    "    crea_dict[key]['minerali']={}\n",
    "    for row in rows:\n",
    "        col = row.findAll(\"td\")\n",
    "        crea_dict[key]['minerali'][col[0].text]=col[2].text\n",
    "        #print(col[0].text,col[2].text)\n",
    "    rows = table.findAll('tr', {\"class\": \"corpovitamine\"})\n",
    "    #crea_dict[key]={\"vitamine\":{}}\n",
    "    crea_dict[key]['vitamine']={}\n",
    "    for row in rows:\n",
    "        col = row.findAll(\"td\")\n",
    "        crea_dict[key]['vitamine'][col[0].text]=col[2].text\n",
    "        #print(col[0].text,col[2].text)\n",
    "    rows = table.findAll('tr', {\"class\": \"corpograssi\"})\n",
    "    #crea_dict[key]={\"grassi\":{}}\n",
    "    crea_dict[key]['grassi']={}\n",
    "    for row in rows:\n",
    "        col = row.findAll(\"td\")\n",
    "        crea_dict[key]['grassi'][col[0].text]=col[2].text\n",
    "        #print(col[0].text,col[2].text)\n",
    "    rows = table.findAll('tr', {\"class\": \"corpoaminoacidi\"})\n",
    "    #crea_dict[key]={\"aminoacidi\":{}}\n",
    "    crea_dict[key]['aminoacidi']={}\n",
    "    for row in rows:\n",
    "        col = row.findAll(\"td\")\n",
    "        crea_dict[key]['aminoacidi'][col[0].text]=col[2].text\n",
    "        #print(col[0].text,col[2].text)\n",
    "    rows = table.findAll('tr', {\"class\": \"corpoaltri\"})\n",
    "    #crea_dict[key]={\"altri\":{}}\n",
    "    crea_dict[key]['altri']={}\n",
    "    for row in rows:\n",
    "        col = row.findAll(\"td\")\n",
    "        crea_dict[key]['altri'][col[0].text]=col[2].text\n",
    "        #print(col[0].text,col[2].text)\n",
    "    ########################################################    \n",
    "    #i = i+1\n",
    "    #if i==1: \n",
    "    #    break"
   ]
  },
  {
   "cell_type": "code",
   "execution_count": 97,
   "metadata": {},
   "outputs": [],
   "source": [
    "import json\n",
    "\n",
    "# create json object from dictionary\n",
    "json = json.dumps(crea_dict)\n",
    "\n",
    "# open file for writing, \"w\" \n",
    "f = open(\"crea dataset.json\",\"w\")\n",
    "\n",
    "# write json object to file\n",
    "f.write(json)\n",
    "\n",
    "# close file\n",
    "f.close()"
   ]
  },
  {
   "cell_type": "code",
   "execution_count": 30,
   "metadata": {},
   "outputs": [],
   "source": [
    "\n",
    "# Python program to demonstrate\n",
    "# Conversion of JSON data to\n",
    "# dictionary\n",
    " \n",
    "# importing the module\n",
    "import json\n",
    " \n",
    "# Opening JSON file\n",
    "with open(\"crea dataset.json\") as json_file:\n",
    "    crea_dict = json.load(json_file)\n"
   ]
  },
  {
   "cell_type": "code",
   "execution_count": 31,
   "metadata": {},
   "outputs": [
    {
     "data": {
      "text/plain": [
       "900"
      ]
     },
     "execution_count": 31,
     "metadata": {},
     "output_type": "execute_result"
    }
   ],
   "source": [
    "len(crea_dict.keys())"
   ]
  },
  {
   "cell_type": "code",
   "execution_count": 32,
   "metadata": {},
   "outputs": [],
   "source": [
    "macronutrienti=set()\n",
    "minerali=set()\n",
    "vitamine=set()\n",
    "grassi=set()\n",
    "aminoacidi=set()\n",
    "altri=set()\n",
    "\n",
    "for key in crea_dict.keys():\n",
    "    for k in crea_dict[key]['macronutrienti'].keys():\n",
    "        macronutrienti.add(k)\n",
    "    for k in crea_dict[key]['minerali'].keys():\n",
    "        minerali.add(k)\n",
    "    for k in crea_dict[key]['vitamine'].keys():\n",
    "        vitamine.add(k)\n",
    "    for k in crea_dict[key]['aminoacidi'].keys():\n",
    "        aminoacidi.add(k)\n",
    "    for k in crea_dict[key]['altri'].keys():\n",
    "        altri.add(k)\n"
   ]
  },
  {
   "cell_type": "code",
   "execution_count": 33,
   "metadata": {},
   "outputs": [
    {
     "name": "stdout",
     "output_type": "stream",
     "text": [
      "{'Proteine (g)', 'Lipidi (g)', 'Carboidrati disponibili (g)', 'Energia (kJ)', 'Amido (g)', 'Colesterolo (mg)', 'Acqua (g)', 'Energia (kcal)', 'Fibra solubile (g)', 'Fibra insolubile (g)', 'Zuccheri solubili (g)', 'Alcool (g)', 'Fibra totale (g)'} {'Licopene (μg)', 'Carotene alfa (μg)', 'Niacina (mg)', 'Luteina (μg)', 'Tocoferolo gamma (mg)', 'Biotina (mg)', 'Vitamina D (μg)', 'Vitamina B12 (μg)', 'Vitamina B6 (mg)', 'Tocoferolo alfa (mg)', 'Retinolo (μg)', 'Vitamina A retinolo equivalente (μg)', 'Carotene beta (μg)', 'Folati (μg)', 'Vitamina E (mg)', 'Tiamina (mg)', 'Vitamina C (mg)', 'Carotenoidi totali (μg)', 'Criptoxantina (μg)', 'Tocoferolo delta (mg)', 'Riboflavina (mg)', 'Acido pantotenico (mg)'} set() {'Acido glutammico', 'Prolina', 'Triptofano', 'Metionina', 'Aminoacido limitante', 'Acido aspartico', 'Treonina', 'Fenilalanina', 'Leucina', 'Valina', 'Glicina', 'Isoleucina', 'Istidina', 'Cistina', 'Arginina', 'Tirosina', 'Indice Chimico', 'Lisina', 'Alanina', 'Serina'} {'Acido fitico (g)', 'Violaxantina (mg)', 'Acido citrico (mg)', 'Miricetina (mg)', 'Attività antiossidante (mmol)', 'Fruttoligosaccaridi (g)', 'Apigenina (mg)', 'Acido malico (mg)', 'Fitosteroli (mg)', 'Quercetina (mg)', 'Polifenoli (mg)', 'Campferolo (mg)'}\n"
     ]
    }
   ],
   "source": [
    "print(macronutrienti,vitamine,grassi,aminoacidi,altri)"
   ]
  },
  {
   "cell_type": "code",
   "execution_count": 25,
   "metadata": {},
   "outputs": [
    {
     "name": "stdout",
     "output_type": "stream",
     "text": [
      "Fibra solubile (g)\n",
      "Fibra insolubile (g)\n"
     ]
    }
   ],
   "source": [
    "for m in macronutrienti:\n",
    "    if m not in crea_dict[k]['macronutrienti'].keys():\n",
    "        crea_dict[key]['macronutrienti'][m]=0"
   ]
  },
  {
   "cell_type": "code",
   "execution_count": 34,
   "metadata": {},
   "outputs": [],
   "source": [
    "for key in crea_dict.keys():\n",
    "    for m in macronutrienti:\n",
    "        if m not in crea_dict[key]['macronutrienti'].keys():\n",
    "            crea_dict[key]['macronutrienti'][m]=0\n",
    "    for m in vitamine:\n",
    "        if m not in crea_dict[key]['vitamine'].keys():\n",
    "            crea_dict[key]['vitamine'][m]=0\n",
    "    for m in grassi:\n",
    "        if m not in crea_dict[key]['grassi'].keys():\n",
    "            crea_dict[key]['grassi'][m]=0\n",
    "    for m in aminoacidi:\n",
    "        if m not in crea_dict[key]['aminoacidi'].keys():\n",
    "            crea_dict[key]['aminoacidi'][m]=0\n",
    "    for m in altri:\n",
    "        if m not in crea_dict[key]['altri'].keys():\n",
    "            crea_dict[key]['altri'][m]=0"
   ]
  },
  {
   "cell_type": "code",
   "execution_count": 38,
   "metadata": {},
   "outputs": [
    {
     "data": {
      "text/plain": [
       "403"
      ]
     },
     "execution_count": 38,
     "metadata": {},
     "output_type": "execute_result"
    }
   ],
   "source": [
    "int(crea_dict['Acciuga o alice']['macronutrienti']['Energia (kJ)'])"
   ]
  },
  {
   "cell_type": "code",
   "execution_count": 39,
   "metadata": {},
   "outputs": [],
   "source": [
    "import json\n",
    "\n",
    "# create json object from dictionary\n",
    "json = json.dumps(crea_dict)\n",
    "\n",
    "# open file for writing, \"w\" \n",
    "f = open(\"crea dataset all elements.json\",\"w\")\n",
    "\n",
    "# write json object to file\n",
    "f.write(json)\n",
    "\n",
    "# close file\n",
    "f.close()"
   ]
  },
  {
   "cell_type": "markdown",
   "metadata": {},
   "source": [
    "# Work in progress"
   ]
  },
  {
   "cell_type": "code",
   "execution_count": 1,
   "metadata": {},
   "outputs": [],
   "source": [
    "# importing the module\n",
    "import json\n",
    " \n",
    "# Opening JSON file\n",
    "with open(\"crea dataset all elements.json\") as json_file:\n",
    "    crea_dict = json.load(json_file)\n"
   ]
  },
  {
   "cell_type": "code",
   "execution_count": null,
   "metadata": {},
   "outputs": [],
   "source": [
    "import pandas as pd\n",
    "macro_feat = ['macronutrienti','vitamine','grassi','aminoacidi','altri']\n",
    "output = pd.DataFrame()\n",
    "for key in crea_dict.keys():\n",
    "    rows = {'ingrediente':key}\n",
    "    for mf in macro_feat:\n",
    "        for fea in crea_dict[key][mf]:\n",
    "            '''\n",
    "            try:\n",
    "                value = float(crea_dict[key][mf][fea])\n",
    "            except:\n",
    "                value = crea_dict[key][mf][fea]\n",
    "            '''\n",
    "            rows[fea] = crea_dict[key][mf][fea]\n",
    "    output = output.append(rows, ignore_index=True)\n",
    "    \n",
    "    "
   ]
  },
  {
   "cell_type": "code",
   "execution_count": 3,
   "metadata": {},
   "outputs": [],
   "source": [
    "output.set_index('ingrediente', inplace = True)"
   ]
  },
  {
   "cell_type": "code",
   "execution_count": 4,
   "metadata": {},
   "outputs": [
    {
     "data": {
      "text/plain": [
       "'5.1'"
      ]
     },
     "execution_count": 4,
     "metadata": {},
     "output_type": "execute_result"
    }
   ],
   "source": [
    "output.iloc[0]['C18:0 acido stearico (%)']"
   ]
  },
  {
   "cell_type": "code",
   "execution_count": 5,
   "metadata": {},
   "outputs": [
    {
     "data": {
      "text/plain": [
       "Acqua (g)                        76.5 \n",
       "Energia (kcal)                     96 \n",
       "Energia (kJ)                      403 \n",
       "Proteine (g)                     16.8 \n",
       "Lipidi (g)                        2.6 \n",
       "                                 ...  \n",
       "C17:1 acido eptadecenoico (%)      NaN\n",
       "C8:0 acido caprilico (%)           NaN\n",
       "C4:0 acido butirrico (%)           NaN\n",
       "C6:0 acido capronico (%)           NaN\n",
       "C7:0 acido enantico (%)            NaN\n",
       "Name: Acciuga o alice, Length: 102, dtype: object"
      ]
     },
     "execution_count": 5,
     "metadata": {},
     "output_type": "execute_result"
    }
   ],
   "source": [
    "output.iloc[0]"
   ]
  },
  {
   "cell_type": "code",
   "execution_count": null,
   "metadata": {},
   "outputs": [],
   "source": [
    "print(list(output.index.values))"
   ]
  },
  {
   "cell_type": "code",
   "execution_count": 7,
   "metadata": {},
   "outputs": [],
   "source": [
    "eles = [(i,list(output.index.values).index(i)) for i in list(output.index.values) if i.startswith('Ros')]"
   ]
  },
  {
   "cell_type": "code",
   "execution_count": 8,
   "metadata": {},
   "outputs": [
    {
     "data": {
      "text/plain": [
       "[('Rosmarino, fresco', 748)]"
      ]
     },
     "execution_count": 8,
     "metadata": {},
     "output_type": "execute_result"
    }
   ],
   "source": [
    "eles"
   ]
  },
  {
   "cell_type": "code",
   "execution_count": 9,
   "metadata": {},
   "outputs": [
    {
     "data": {
      "text/plain": [
       "Acqua (g)                        72.5 \n",
       "Energia (kcal)                    110 \n",
       "Energia (kJ)                      460 \n",
       "Proteine (g)                      1.4 \n",
       "Lipidi (g)                        4.4 \n",
       "                                 ...  \n",
       "C17:1 acido eptadecenoico (%)      NaN\n",
       "C8:0 acido caprilico (%)           NaN\n",
       "C4:0 acido butirrico (%)           NaN\n",
       "C6:0 acido capronico (%)           NaN\n",
       "C7:0 acido enantico (%)            NaN\n",
       "Name: Rosmarino, fresco, Length: 102, dtype: object"
      ]
     },
     "execution_count": 9,
     "metadata": {},
     "output_type": "execute_result"
    }
   ],
   "source": [
    "output.loc['Rosmarino, fresco']"
   ]
  },
  {
   "cell_type": "code",
   "execution_count": 10,
   "metadata": {},
   "outputs": [],
   "source": [
    "df1 = output.apply(pd.to_numeric, errors='coerce')"
   ]
  },
  {
   "cell_type": "code",
   "execution_count": 11,
   "metadata": {},
   "outputs": [],
   "source": [
    "from sklearn.metrics.pairwise import pairwise_distances\n",
    "df2=df1.fillna(0)\n",
    "pwdistance = pairwise_distances(df2, metric='cosine')"
   ]
  },
  {
   "cell_type": "code",
   "execution_count": 40,
   "metadata": {},
   "outputs": [
    {
     "data": {
      "text/plain": [
       "numpy.ndarray"
      ]
     },
     "execution_count": 40,
     "metadata": {},
     "output_type": "execute_result"
    }
   ],
   "source": [
    "type(pwdistance)"
   ]
  },
  {
   "cell_type": "code",
   "execution_count": 12,
   "metadata": {},
   "outputs": [
    {
     "name": "stdout",
     "output_type": "stream",
     "text": [
      "Rosmarino, fresco\n"
     ]
    }
   ],
   "source": [
    "index = 748\n",
    "print(output.iloc[index].name)\n",
    "\n",
    "vec = pwdistance[index,:]\n",
    "indices = vec < 0.001"
   ]
  },
  {
   "cell_type": "code",
   "execution_count": null,
   "metadata": {},
   "outputs": [],
   "source": [
    "indices"
   ]
  },
  {
   "cell_type": "code",
   "execution_count": 14,
   "metadata": {},
   "outputs": [
    {
     "name": "stdout",
     "output_type": "stream",
     "text": [
      "Amarene, fresche 0.00036246148444962767\n",
      "Cavoli di Bruxelles, cotti, bolliti 0.0009625786567794004\n",
      "Cicoria, witloof o indivia belga, cruda 0.0005171962883152581\n",
      "Foglie di rapa, crude 0.0008503024344751475\n",
      "Lattuga, da taglio, fresca 5.3632151823856944e-05\n",
      "Milza di bovini 0.0004134397262777201\n",
      "Peperoncini piccanti, freschi 0.000594344544818215\n",
      "Peperoni, gialli, crudi 0.0009815554088968836\n",
      "Pere, fresche, Max-Red Barlett 0.00013934469275156403\n",
      "Prugne, fresche 0.00045900823968347826\n",
      "Rosmarino, fresco 1.1102230246251565e-16\n"
     ]
    }
   ],
   "source": [
    "import numpy as np\n",
    "a = list(np.where(indices)[0])\n",
    "for i in a:\n",
    "    print(output.iloc[i].name, vec[i] )"
   ]
  },
  {
   "cell_type": "markdown",
   "metadata": {},
   "source": [
    "https://www.scientificamerican.com/article/flavor-connection-taste-map-interactive/\n",
    "https://foodb.ca/foods\n",
    "https://www.eurofir.org/our-tools/foodexplorer/\n",
    "https://cosylab.iiitd.edu.in/flavordb/"
   ]
  }
 ],
 "metadata": {
  "kernelspec": {
   "display_name": "Python 3 (ipykernel)",
   "language": "python",
   "name": "python3"
  },
  "language_info": {
   "codemirror_mode": {
    "name": "ipython",
    "version": 3
   },
   "file_extension": ".py",
   "mimetype": "text/x-python",
   "name": "python",
   "nbconvert_exporter": "python",
   "pygments_lexer": "ipython3",
   "version": "3.10.12"
  }
 },
 "nbformat": 4,
 "nbformat_minor": 2
}
